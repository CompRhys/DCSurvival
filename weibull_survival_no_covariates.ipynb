{
 "cells": [
  {
   "attachments": {},
   "cell_type": "markdown",
   "metadata": {},
   "source": [
    "#### This notebook shows that when dependent censoring occurs, the regular MLE is biased (if assuming independent censoring)"
   ]
  },
  {
   "cell_type": "code",
   "execution_count": 33,
   "metadata": {},
   "outputs": [],
   "source": [
    "import torch\n",
    "import torch.optim as optim\n",
    "import numpy as np\n",
    "device = torch.device(\"cuda\" if torch.cuda.is_available() else \"cpu\")\n",
    "\n",
    "# Generate synthetic data (time-to-event and censoring indicator)\n",
    "np.random.seed(285714)\n",
    "v_e=4; rho_e=14; v_c=3; rho_c=16\n",
    "# v_e=3; rho_e=16; v_c=4; rho_c=14\n",
    "\n",
    "size = 100000\n",
    "num_epochs = 50000\n",
    "\n",
    "# Define our Weibull survival model\n",
    "class WeibullModel(torch.nn.Module):\n",
    "    def __init__(self):\n",
    "        super(WeibullModel, self).__init__()\n",
    "        self.shape = torch.nn.Parameter(torch.tensor(1.0))\n",
    "        self.scale = torch.nn.Parameter(torch.tensor(1.0))\n",
    "\n",
    "    def log_likelihood(self, times, event_indicator):\n",
    "        log_pdf = ((self.shape-1) * torch.log(times / self.scale) \n",
    "                   + torch.log(self.shape) - torch.log(self.scale) - \n",
    "                   ((times / self.scale) ** self.shape))\n",
    "        log_sf = -((times / self.scale) ** self.shape)\n",
    "        return (event_indicator * log_pdf + (1 - event_indicator) * log_sf).sum()"
   ]
  },
  {
   "attachments": {},
   "cell_type": "markdown",
   "metadata": {},
   "source": [
    "### Generate Weibull Survival Data with Random Censoring and fit maximum likelihood model"
   ]
  },
  {
   "cell_type": "code",
   "execution_count": 34,
   "metadata": {},
   "outputs": [
    {
     "name": "stdout",
     "output_type": "stream",
     "text": [
      "Epoch 0, Log-Likelihood: -1089520.0\n",
      "Epoch 10000, Log-Likelihood: -178460.65625\n",
      "Epoch 20000, Log-Likelihood: -178460.65625\n",
      "Epoch 30000, Log-Likelihood: -178460.65625\n",
      "Epoch 40000, Log-Likelihood: -178460.65625\n",
      "Estimated Shape: 4.013899803161621, Estimated Scale: 14.005375862121582\n"
     ]
    }
   ],
   "source": [
    "\n",
    "times_e = np.random.weibull(v_e, size) * rho_e\n",
    "times_c = np.random.weibull(v_c, size) * rho_c\n",
    "\n",
    "event_indicator = (times_c > times_e).astype(int)\n",
    "times_y = np.minimum(times_e, times_c)\n",
    "\n",
    "# # Convert numpy data to PyTorch tensors\n",
    "times_tensor = torch.tensor(times_y, dtype=torch.float32).to(device)\n",
    "event_indicator_tensor = torch.tensor(event_indicator, dtype=torch.float32).to(device)\n",
    "\n",
    "\n",
    "model = WeibullModel().to(device)\n",
    "\n",
    "# Create an optimizer\n",
    "optimizer = optim.Adam(model.parameters(), lr=0.01)\n",
    "\n",
    "# Define the number of epochs and the likelihood threshold\n",
    "likelihood_threshold = 1e-10\n",
    "\n",
    "# Train the model\n",
    "for epoch in range(num_epochs):\n",
    "    optimizer.zero_grad()\n",
    "    log_likelihood = model.log_likelihood(times_tensor, event_indicator_tensor)\n",
    "    (-log_likelihood).backward()\n",
    "    optimizer.step()\n",
    "\n",
    "    if epoch % 10000 == 0:\n",
    "        print(f\"Epoch {epoch}, Log-Likelihood: {log_likelihood.item()}\")\n",
    "\n",
    "    if -log_likelihood.item() < likelihood_threshold:\n",
    "        break\n",
    "\n",
    "print(f\"Estimated Shape: {model.shape.item()}, Estimated Scale: {model.scale.item()}\")"
   ]
  },
  {
   "attachments": {},
   "cell_type": "markdown",
   "metadata": {},
   "source": [
    "### Generate Dependent Censoring Weibull Data (Clayton Copula)"
   ]
  },
  {
   "cell_type": "code",
   "execution_count": 35,
   "metadata": {},
   "outputs": [
    {
     "data": {
      "image/png": "[encoded data removed]",
      "text/plain": [
       "<Figure size 640x480 with 2 Axes>"
      ]
     },
     "metadata": {},
     "output_type": "display_data"
    }
   ],
   "source": [
    "import matplotlib.pyplot as plt\n",
    "import numpy as np\n",
    "\n",
    "# define conditional distribution approach  \n",
    "def clayton_conditional(u,v,theta=5):\n",
    "    return (u**(-theta)*(v**(-theta/(theta+1))-1)+1)**(-1/theta)\n",
    "\n",
    "# generate random variable uniformly from 0 to 1\n",
    "u = np.random.uniform(0, 1, size)\n",
    "t = np.random.uniform(0, 1, size)\n",
    "\n",
    "# Now, (u,v) are uniformly distributed in [0,1]^2, and joint CDF is given by the Clayton Copula with parameter theta\n",
    "v = clayton_conditional(u,t, theta = 10)\n",
    "\n",
    "plt.subplot(2, 1, 1)\n",
    "plt.scatter(u, v)\n",
    "\n",
    "def inverse_transform(u, v, rho):\n",
    "    return (-np.log(1-u))**(1/v)*rho\n",
    "\n",
    "event_time = inverse_transform(u, v_e, rho_e)\n",
    "censoring_time = inverse_transform(v, v_c, rho_c)\n",
    "\n",
    "plt.subplot(2, 1, 2)\n",
    "plt.scatter(event_time, censoring_time)\n",
    "\n",
    "# create observed time \n",
    "observed_time = np.minimum(event_time, censoring_time)\n",
    "event_indicator = (event_time<censoring_time).astype(int)\n"
   ]
  },
  {
   "cell_type": "code",
   "execution_count": 36,
   "metadata": {},
   "outputs": [
    {
     "name": "stdout",
     "output_type": "stream",
     "text": [
      "Epoch 0, Log-Likelihood: -1254222.125\n",
      "Epoch 10000, Log-Likelihood: -193787.625\n",
      "Epoch 20000, Log-Likelihood: -193787.625\n",
      "Epoch 30000, Log-Likelihood: -193787.609375\n",
      "Epoch 40000, Log-Likelihood: -193787.609375\n",
      "Estimated Shape: 5.342673301696777, Estimated Scale: 15.147110939025879\n"
     ]
    }
   ],
   "source": [
    "# # Convert numpy data to PyTorch tensors\n",
    "times_tensor = torch.tensor(observed_time, dtype=torch.float32).to(device)\n",
    "event_indicator_tensor = torch.tensor(event_indicator, dtype=torch.float32).to(device)\n",
    "\n",
    "model2 = WeibullModel().to(device)\n",
    "\n",
    "# Create an optimizer\n",
    "optimizer = optim.Adam(model2.parameters(), lr=0.01)\n",
    "\n",
    "# Define the number of epochs and the likelihood threshold\n",
    "likelihood_threshold = 1e-10\n",
    "\n",
    "# Train the model\n",
    "for epoch in range(num_epochs):\n",
    "    optimizer.zero_grad()\n",
    "    log_likelihood = model2.log_likelihood(times_tensor, event_indicator_tensor)\n",
    "    (-log_likelihood).backward()\n",
    "    optimizer.step()\n",
    "\n",
    "    if epoch % 10000 == 0:\n",
    "        print(f\"Epoch {epoch}, Log-Likelihood: {log_likelihood.item()}\")\n",
    "\n",
    "    if -log_likelihood.item() < likelihood_threshold:\n",
    "        break\n",
    "\n",
    "print(f\"Estimated Shape: {model2.shape.item()}, Estimated Scale: {model2.scale.item()}\")"
   ]
  },
  {
   "cell_type": "code",
   "execution_count": 37,
   "metadata": {},
   "outputs": [],
   "source": [
    "# This model still has some problem, not outputting the correct result.\n",
    "\n",
    "import torch.nn as nn\n",
    "# Define our Weibull survival model\n",
    "class WeibullModel_covariates(torch.nn.Module):\n",
    "    def __init__(self, dim):\n",
    "        super(WeibullModel_covariates, self).__init__()\n",
    "        self.shape = torch.nn.Parameter(torch.tensor(1.0))\n",
    "        self.scale = torch.nn.Parameter(torch.tensor(1.0))\n",
    "        self.net = nn.Sequential(\n",
    "            nn.Linear(dim,32),\n",
    "            nn.Linear(32,1)\n",
    "        )\n",
    "\n",
    "    def log_likelihood(self, covariates, times, event_indicator):\n",
    "        x_beta = self.net(covariates).squeeze()\n",
    "        log_sf = - ((times / self.scale) ** self.shape * torch.exp(x_beta))\n",
    "        log_pdf = log_sf + (torch.log(times) - torch.log(self.shape) + x_beta/self.shape)*self.shape \\\n",
    "                                - torch.log(times) + torch.log(self.scale)\n",
    "        return (event_indicator * log_pdf + (1 - event_indicator) * log_sf).sum()"
   ]
  },
  {
   "cell_type": "code",
   "execution_count": 38,
   "metadata": {},
   "outputs": [],
   "source": [
    "class WeibullModel_covariates(nn.Module):\n",
    "    def __init__(self, num_features, hidden_size = 1):\n",
    "        super(WeibullModel_covariates, self).__init__()\n",
    "        self.net = nn.Sequential(\n",
    "            nn.Linear(num_features, hidden_size),\n",
    "            # nn.ReLU(),\n",
    "            nn.Linear(hidden_size, 1),\n",
    "        )\n",
    "        self.shape = nn.Parameter(torch.tensor(1.0))\n",
    "        self.scale = nn.Parameter(torch.tensor(1.0))\n",
    "\n",
    "    def log_likelihood(self, x, t, c):\n",
    "        shape_term = torch.log(self.shape)\n",
    "        x_beta = self.net(x).squeeze()\n",
    "        log_t_lambda = (self.shape - 1) * torch.log(t / self.scale)\n",
    "        log_lambda = torch.log(self.scale)\n",
    "        exp_term = torch.exp(x_beta) * (t / self.scale) ** self.shape\n",
    "\n",
    "        logL = torch.sum(c * (shape_term + x_beta + log_t_lambda - log_lambda) - exp_term)\n",
    "        return logL\n",
    "\n",
    "    def forward(self, t, x, c):\n",
    "        return -self.log_likelihood(t, x, c)"
   ]
  },
  {
   "cell_type": "code",
   "execution_count": 40,
   "metadata": {},
   "outputs": [
    {
     "name": "stdout",
     "output_type": "stream",
     "text": [
      "Epoch 0, Log-Likelihood: -642121.875\n",
      "Epoch 1000, Log-Likelihood: -211039.9375\n",
      "Epoch 2000, Log-Likelihood: -195589.890625\n",
      "Epoch 3000, Log-Likelihood: -193856.9375\n",
      "Epoch 4000, Log-Likelihood: -193787.46875\n",
      "Epoch 5000, Log-Likelihood: -193787.09375\n",
      "Epoch 6000, Log-Likelihood: -193787.0625\n",
      "Epoch 7000, Log-Likelihood: -193787.0625\n",
      "Epoch 8000, Log-Likelihood: -193787.0625\n",
      "Epoch 9000, Log-Likelihood: -193787.109375\n",
      "Epoch 10000, Log-Likelihood: -193787.0625\n",
      "Epoch 11000, Log-Likelihood: -193787.078125\n",
      "Epoch 12000, Log-Likelihood: -193787.046875\n",
      "Epoch 13000, Log-Likelihood: -193787.0625\n",
      "Epoch 14000, Log-Likelihood: -193787.109375\n",
      "Epoch 15000, Log-Likelihood: -193787.0625\n",
      "Epoch 16000, Log-Likelihood: -193787.078125\n",
      "Epoch 17000, Log-Likelihood: -193787.0625\n",
      "Epoch 18000, Log-Likelihood: -193787.546875\n",
      "Epoch 19000, Log-Likelihood: -193787.09375\n",
      "Epoch 20000, Log-Likelihood: -193787.15625\n",
      "Epoch 21000, Log-Likelihood: -193791.15625\n",
      "Epoch 22000, Log-Likelihood: -193787.09375\n",
      "Epoch 23000, Log-Likelihood: -193787.125\n",
      "Epoch 24000, Log-Likelihood: -193787.0625\n",
      "Epoch 25000, Log-Likelihood: -193787.09375\n",
      "Epoch 26000, Log-Likelihood: -193787.15625\n",
      "Epoch 27000, Log-Likelihood: -193787.0625\n",
      "Epoch 28000, Log-Likelihood: -193787.078125\n",
      "Epoch 29000, Log-Likelihood: -193787.09375\n",
      "Epoch 30000, Log-Likelihood: -193787.09375\n",
      "Epoch 31000, Log-Likelihood: -193791.828125\n",
      "Epoch 32000, Log-Likelihood: -193787.078125\n",
      "Epoch 33000, Log-Likelihood: -193787.09375\n",
      "Epoch 34000, Log-Likelihood: -193787.09375\n",
      "Epoch 35000, Log-Likelihood: -193787.125\n",
      "Epoch 36000, Log-Likelihood: -193787.0625\n",
      "Epoch 37000, Log-Likelihood: -193787.0625\n",
      "Epoch 38000, Log-Likelihood: -193787.0625\n",
      "Epoch 39000, Log-Likelihood: -193792.6875\n",
      "Epoch 40000, Log-Likelihood: -193787.0625\n",
      "Epoch 41000, Log-Likelihood: -193787.625\n",
      "Epoch 42000, Log-Likelihood: -193787.09375\n",
      "Epoch 43000, Log-Likelihood: -193787.375\n",
      "Epoch 44000, Log-Likelihood: -193787.09375\n",
      "Epoch 45000, Log-Likelihood: -193787.078125\n",
      "Epoch 46000, Log-Likelihood: -193787.09375\n",
      "Epoch 47000, Log-Likelihood: -193787.109375\n",
      "Epoch 48000, Log-Likelihood: -193787.09375\n",
      "Epoch 49000, Log-Likelihood: -193789.65625\n",
      "Estimated Shape: 5.342545032501221, Estimated Scale: 2.0862808227539062\n"
     ]
    }
   ],
   "source": [
    "dim = 1\n",
    "# generate X from 10 dimensional uniform distribution from 0 to 1\n",
    "X = np.random.uniform(0, 1, (size, dim))\n",
    "covariate_tensor = torch.tensor(X, dtype=torch.float32).to(device)\n",
    "\n",
    "import torch\n",
    "import torch.optim as optim\n",
    "\n",
    "\n",
    "# Define our Weibull survival model\n",
    "model = WeibullModel_covariates(dim).to(device)\n",
    "\n",
    "# Create an optimizer\n",
    "optimizer = optim.Adam(model.parameters(), lr=0.01)\n",
    "\n",
    "# Define the number of epochs and the likelihood threshold\n",
    "num_epochs = 50000\n",
    "likelihood_threshold = 1e-10\n",
    "\n",
    "# Train the model\n",
    "for epoch in range(num_epochs):\n",
    "    optimizer.zero_grad()\n",
    "    log_likelihood = model.log_likelihood(covariate_tensor, times_tensor, event_indicator_tensor)\n",
    "    (-log_likelihood).backward()\n",
    "    optimizer.step()\n",
    "\n",
    "    if epoch % 1000 == 0:\n",
    "        print(f\"Epoch {epoch}, Log-Likelihood: {log_likelihood.item()}\")\n",
    "\n",
    "    if -log_likelihood.item() < likelihood_threshold:\n",
    "        break\n",
    "\n",
    "print(f\"Estimated Shape: {model.shape.item()}, Estimated Scale: {model.scale.item()}\")"
   ]
  }
 ],
 "metadata": {
  "kernelspec": {
   "display_name": "base",
   "language": "python",
   "name": "python3"
  },
  "language_info": {
   "codemirror_mode": {
    "name": "ipython",
    "version": 3
   },
   "file_extension": ".py",
   "mimetype": "text/x-python",
   "name": "python",
   "nbconvert_exporter": "python",
   "pygments_lexer": "ipython3",
   "version": "3.10.9"
  },
  "orig_nbformat": 4
 },
 "nbformat": 4,
 "nbformat_minor": 2
}
